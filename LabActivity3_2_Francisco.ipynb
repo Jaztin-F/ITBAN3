{
  "nbformat": 4,
  "nbformat_minor": 0,
  "metadata": {
    "colab": {
      "provenance": [],
      "authorship_tag": "ABX9TyOZKl296rNnnVNaIzFcFxcq",
      "include_colab_link": true
    },
    "kernelspec": {
      "name": "python3",
      "display_name": "Python 3"
    },
    "language_info": {
      "name": "python"
    }
  },
  "cells": [
    {
      "cell_type": "markdown",
      "metadata": {
        "id": "view-in-github",
        "colab_type": "text"
      },
      "source": [
        "<a href=\"https://colab.research.google.com/github/Jaztin-F/ITBAN3/blob/main/LabActivity3_2_Francisco.ipynb\" target=\"_parent\"><img src=\"https://colab.research.google.com/assets/colab-badge.svg\" alt=\"Open In Colab\"/></a>"
      ]
    },
    {
      "cell_type": "code",
      "execution_count": 6,
      "metadata": {
        "colab": {
          "base_uri": "https://localhost:8080/"
        },
        "id": "L7BSSSQuvR3c",
        "outputId": "cd6484b9-a92c-4369-c23e-5756ced248b0"
      },
      "outputs": [
        {
          "output_type": "stream",
          "name": "stdout",
          "text": [
            "Original Array:\n",
            "[[[ 10  20]\n",
            "  [ 30  40]]\n",
            "\n",
            " [[ 50  60]\n",
            "  [ 70  80]]\n",
            "\n",
            " [[ 90 100]\n",
            "  [110 120]]]\n",
            "\n",
            "Sum along time dimension:\n",
            "[[150 180]\n",
            " [210 240]]\n",
            "\n",
            "Mean along product categories dimension:\n",
            "[[ 20.  30.]\n",
            " [ 60.  70.]\n",
            " [100. 110.]]\n",
            "\n",
            "Sum along geographical regions dimension:\n",
            "[[ 30  70]\n",
            " [110 150]\n",
            " [190 230]]\n"
          ]
        }
      ],
      "source": [
        "import numpy as np\n",
        "\n",
        "# Define the multiway array\n",
        "array = np.array([[[10, 20], [30, 40]], [[50, 60], [70, 80]], [[90, 100], [110, 120]]])\n",
        "\n",
        "# Define the dimensions\n",
        "time = [\"Jan\", \"Feb\", \"Mar\"]\n",
        "product_categories = [\"Clothing\", \"Electronics\"]\n",
        "geographical_regions = [\"Region1\", \"Region2\"]\n",
        "\n",
        "# Print the original array\n",
        "print(\"Original Array:\")\n",
        "print(array)\n",
        "\n",
        "# Compute the sum along the time dimension\n",
        "time_sum = np.sum(array, axis=0)\n",
        "print(\"\\nSum along time dimension:\")\n",
        "print(time_sum)\n",
        "\n",
        "# Compute the mean along the product categories dimension\n",
        "product_categories_mean = np.mean(array, axis=1)\n",
        "print(\"\\nMean along product categories dimension:\")\n",
        "print(product_categories_mean)\n",
        "\n",
        "# Compute the sum along the geographical regions dimension\n",
        "geographical_regions_sum = np.sum(array, axis=2)\n",
        "print(\"\\nSum along geographical regions dimension:\")\n",
        "print(geographical_regions_sum)"
      ]
    }
  ]
}